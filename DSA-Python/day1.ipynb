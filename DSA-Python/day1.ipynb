{
 "cells": [
  {
   "cell_type": "markdown",
   "metadata": {},
   "source": [
    "\n",
    "hi this is a test"
   ]
  },
  {
   "cell_type": "code",
   "execution_count": 5,
   "metadata": {},
   "outputs": [
    {
     "name": "stdout",
     "output_type": "stream",
     "text": [
      "10->4->\n"
     ]
    }
   ],
   "source": [
    "class Node:\n",
    "    def __init__(self,data=None,next=None):\n",
    "\n",
    "        self.data = data\n",
    "        self.next = next\n",
    "\n",
    "class LinkedList:\n",
    "    def __init__(self):\n",
    "        self.head = None\n",
    "\n",
    "    def insert_at_begining(self,data):\n",
    "        node = Node(data,self.head)\n",
    "        self.head = node\n",
    "\n",
    "    def print1(self):\n",
    "\n",
    "        if self.head is None:\n",
    "            print('linked list is empty')\n",
    "            return\n",
    "        \n",
    "        itr = self.head\n",
    "        llstr = ''\n",
    "        while itr:\n",
    "            llstr += str(itr.data)+'->'\n",
    "            itr = itr.next\n",
    "            \n",
    "        print(llstr)\n",
    "\n",
    "if __name__ == '__main__':\n",
    "    ll = LinkedList()\n",
    "    ll.insert_at_begining(4)\n",
    "    ll.insert_at_begining(10)\n",
    "    ll.print1()"
   ]
  },
  {
   "cell_type": "code",
   "execution_count": null,
   "metadata": {},
   "outputs": [],
   "source": []
  }
 ],
 "metadata": {
  "kernelspec": {
   "display_name": "Python 3",
   "language": "python",
   "name": "python3"
  },
  "language_info": {
   "codemirror_mode": {
    "name": "ipython",
    "version": 3
   },
   "file_extension": ".py",
   "mimetype": "text/x-python",
   "name": "python",
   "nbconvert_exporter": "python",
   "pygments_lexer": "ipython3",
   "version": "3.10.0"
  },
  "orig_nbformat": 4,
  "vscode": {
   "interpreter": {
    "hash": "c20b1ffc11cc6bdea1ad4b067f94b617e517b0918d24ac742cff969c7d9e5b12"
   }
  }
 },
 "nbformat": 4,
 "nbformat_minor": 2
}
